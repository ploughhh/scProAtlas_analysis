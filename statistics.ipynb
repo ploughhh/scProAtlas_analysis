{
 "cells": [
  {
   "cell_type": "code",
   "execution_count": 29,
   "metadata": {},
   "outputs": [],
   "source": [
    "import pandas as pd\n",
    "from collections import Counter\n",
    "import os"
   ]
  },
  {
   "cell_type": "code",
   "execution_count": 42,
   "metadata": {},
   "outputs": [],
   "source": [
    "def neighbor_stats(cells, save_path):\n",
    "    stats = {}\n",
    "    tissues = cells['Tissue'].drop_duplicates().tolist()\n",
    "    for tissue in tissues:\n",
    "        tmp = cells[cells['Tissue'] == tissue]\n",
    "        stats[tissue] = Counter(tmp['neighborhood10'])\n",
    "    stats = pd.DataFrame(stats).T\n",
    "    os.makedirs(save_path, exist_ok=True)\n",
    "    stats.to_csv(f'{save_path}/neighbor.tsv', sep='\\t', index_label='Region')\n",
    "    \n",
    "def celltype_stats(cells, save_path):\n",
    "    stats = {}\n",
    "    tissues = cells['Tissue'].drop_duplicates().tolist()\n",
    "    for tissue in tissues:\n",
    "        tmp = cells[cells['Tissue'] == tissue]\n",
    "        stats[tissue] = Counter(tmp['cell_type'])\n",
    "    stats = pd.DataFrame(stats).T\n",
    "    os.makedirs(save_path, exist_ok=True)\n",
    "    stats.to_csv(f'{save_path}/cell_type.tsv', sep='\\t', index_label='Region')"
   ]
  },
  {
   "cell_type": "code",
   "execution_count": 2,
   "metadata": {},
   "outputs": [],
   "source": [
    "cells_li = pd.read_csv('/data/twang15/spatial_protein/CODEX_data/hubmap/neighbor/large_intestine/cells.tsv', sep='\\t', index_col='Unnamed: 0')\n",
    "cells_ln = pd.read_csv('/data/twang15/spatial_protein/CODEX_data/hubmap/neighbor/lymph_node/cells.tsv', sep='\\t', index_col='Unnamed: 0') \n",
    "cells_si = pd.read_csv('/data/twang15/spatial_protein/CODEX_data/hubmap/neighbor/small_intestine/cells.tsv', sep='\\t', index_col='Unnamed: 0')\n",
    "cells_sp = pd.read_csv('/data/twang15/spatial_protein/CODEX_data/hubmap/neighbor/spleen/cells.tsv', sep='\\t', index_col='Unnamed: 0')\n",
    "cells_ty = pd.read_csv('/data/twang15/spatial_protein/CODEX_data/hubmap/neighbor/thymus/cells.tsv', sep='\\t', index_col='Unnamed: 0')"
   ]
  },
  {
   "cell_type": "code",
   "execution_count": 12,
   "metadata": {},
   "outputs": [],
   "source": [
    "cells_si = pd.read_csv('/data/twang15/spatial_protein/CODEX_data/hubmap/neighbor/small_intestine/cells.tsv', sep='\\t', index_col='Unnamed: 0')"
   ]
  },
  {
   "cell_type": "code",
   "execution_count": 20,
   "metadata": {},
   "outputs": [],
   "source": [
    "stats = {}\n",
    "tissues = cells_li['Tissue'].drop_duplicates().tolist()\n",
    "for tissue in tissues:\n",
    "    tmp = cells_li[cells_li['Tissue'] == tissue]\n",
    "    stats[tissue] = Counter(tmp['neighborhood10'])\n",
    "stats = pd.DataFrame(stats).T\n",
    "save_path = '/data/twang15/spatial_protein/CODEX_data/hubmap/statistics/whole_dataset_stat_neighbor/large_intestine/'\n",
    "os.makedirs(save_path, exist_ok=True)\n",
    "stats.to_csv('/data/twang15/spatial_protein/CODEX_data/hubmap/statistics/whole_dataset_stat_neighbor/large_intestine/neighbor.tsv', sep='\\t')"
   ]
  },
  {
   "cell_type": "code",
   "execution_count": 43,
   "metadata": {},
   "outputs": [],
   "source": [
    "neighbor_stats(cells_li, '/data/twang15/spatial_protein/CODEX_data/hubmap/statistics/whole_dataset_stat_neighbor/large_intestine/')\n",
    "neighbor_stats(cells_ln, '/data/twang15/spatial_protein/CODEX_data/hubmap/statistics/whole_dataset_stat_neighbor/lymph_node/')\n",
    "neighbor_stats(cells_si, '/data/twang15/spatial_protein/CODEX_data/hubmap/statistics/whole_dataset_stat_neighbor/small_intestine/')\n",
    "neighbor_stats(cells_sp, '/data/twang15/spatial_protein/CODEX_data/hubmap/statistics/whole_dataset_stat_neighbor/spleen/')\n",
    "neighbor_stats(cells_ty, '/data/twang15/spatial_protein/CODEX_data/hubmap/statistics/whole_dataset_stat_neighbor/thymus/')"
   ]
  },
  {
   "cell_type": "code",
   "execution_count": 44,
   "metadata": {},
   "outputs": [],
   "source": [
    "celltype_stats(cells_li, '/data/twang15/spatial_protein/CODEX_data/hubmap/statistics/whole_dataset_stat_neighbor/large_intestine/')\n",
    "celltype_stats(cells_ln, '/data/twang15/spatial_protein/CODEX_data/hubmap/statistics/whole_dataset_stat_neighbor/lymph_node/')\n",
    "celltype_stats(cells_si, '/data/twang15/spatial_protein/CODEX_data/hubmap/statistics/whole_dataset_stat_neighbor/small_intestine/')\n",
    "celltype_stats(cells_sp, '/data/twang15/spatial_protein/CODEX_data/hubmap/statistics/whole_dataset_stat_neighbor/spleen/')\n",
    "celltype_stats(cells_ty, '/data/twang15/spatial_protein/CODEX_data/hubmap/statistics/whole_dataset_stat_neighbor/thymus/')"
   ]
  },
  {
   "cell_type": "code",
   "execution_count": 9,
   "metadata": {},
   "outputs": [],
   "source": [
    "cells_li[['Tissue', 'cell_type', 'neighborhood10']].to_csv('/data/twang15/spatial_protein/CODEX_data/hubmap/statistics/largei_dataset_statistics.tsv', sep='\\t', index_label='Region')\n",
    "cells_ln[['Tissue', 'cell_type', 'neighborhood10']].to_csv('/data/twang15/spatial_protein/CODEX_data/hubmap/statistics/lymphn_dataset_statistics.tsv', sep='\\t', index_label='Region')\n",
    "cells_si[['Tissue', 'CellType', 'neighborhood10']].to_csv('/data/twang15/spatial_protein/CODEX_data/hubmap/statistics/smalli_dataset_statistics.tsv', sep='\\t', index_label='Region')\n",
    "cells_sp[['Tissue', 'cell_type', 'neighborhood10']].to_csv('/data/twang15/spatial_protein/CODEX_data/hubmap/statistics/spleendataset_statistics.tsv', sep='\\t', index_label='Region')\n",
    "cells_ty[['Tissue', 'cell_type', 'neighborhood10']].to_csv('/data/twang15/spatial_protein/CODEX_data/hubmap/statistics/thymusdataset_statistics.tsv', sep='\\t', index_label='Region')"
   ]
  },
  {
   "cell_type": "code",
   "execution_count": null,
   "metadata": {},
   "outputs": [],
   "source": []
  }
 ],
 "metadata": {
  "kernelspec": {
   "display_name": "mip",
   "language": "python",
   "name": "python3"
  },
  "language_info": {
   "codemirror_mode": {
    "name": "ipython",
    "version": 3
   },
   "file_extension": ".py",
   "mimetype": "text/x-python",
   "name": "python",
   "nbconvert_exporter": "python",
   "pygments_lexer": "ipython3",
   "version": "3.8.19"
  }
 },
 "nbformat": 4,
 "nbformat_minor": 2
}
