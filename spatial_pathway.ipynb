{
 "cells": [
  {
   "cell_type": "code",
   "execution_count": 1,
   "metadata": {},
   "outputs": [],
   "source": [
    "from enrichr import Enrichr\n",
    "import pandas as pd\n",
    "import os\n",
    "import glob\n",
    "from tqdm import tqdm\n",
    "def find_files(directory, substring, extension):\n",
    "    # 存储符合条件的文件路径\n",
    "    matching_files = []\n",
    "    # 遍历给定目录及其所有子目录\n",
    "    for root, dirs, files in os.walk(directory):\n",
    "        # 检查每个文件\n",
    "        for file in files:\n",
    "            # 检查文件名是否包含特定子字符串并且以特定扩展名结尾\n",
    "            if substring in file and file.endswith(extension):\n",
    "                # 如果符合条件，添加完整路径到列表\n",
    "                matching_files.append(os.path.join(root, file))\n",
    "    return matching_files"
   ]
  },
  {
   "cell_type": "code",
   "execution_count": 2,
   "metadata": {},
   "outputs": [],
   "source": [
    "en = Enrichr(library = ['KEGG_2021_Human', 'GO_Cellular_Component_2023', 'GO_Biological_Process_2023', 'GO_Molecular_Function_2023'])\n",
    "en = Enrichr(cutoff = 0.25)"
   ]
  },
  {
   "cell_type": "code",
   "execution_count": 8,
   "metadata": {},
   "outputs": [
    {
     "data": {
      "text/plain": [
       "'Reg001'"
      ]
     },
     "execution_count": 8,
     "metadata": {},
     "output_type": "execute_result"
    }
   ],
   "source": [
    "files = find_files('/data/twang15/spatial_protein/chip_cytometry/chip_cytometry_1/spatial_func', 'svg', '.tsv')\n",
    "files[0].split('/')[7]"
   ]
  },
  {
   "cell_type": "code",
   "execution_count": 12,
   "metadata": {},
   "outputs": [
    {
     "name": "stderr",
     "output_type": "stream",
     "text": [
      "100%|██████████| 21/21 [00:24<00:00,  1.17s/it]\n"
     ]
    }
   ],
   "source": [
    "for file in tqdm(files):\n",
    "    tmp = pd.read_csv(file, sep='\\t')\n",
    "    tmp = tmp.head(int(len(tmp) * 0.01) if len(tmp) > 10000 else 200)\n",
    "    en.addList(tmp['Gene'].tolist())\n",
    "    tissue = 'Colon'\n",
    "    reg = file.split('/')[7]\n",
    "    dataset = 'SCP_CC1'\n",
    "    tech = 'CC'\n",
    "    results = en.enrich()\n",
    "    results = pd.DataFrame(results)\n",
    "    os.makedirs(f'/data/twang15/spatial_protein/chip_cytometry/chip_cytometry_1/spatial_pathway/{reg}/', exist_ok=True)\n",
    "    results[results['Pval'] < 0.05]\n",
    "    expanded_results = results.assign(Genes=results['Genes'].str.split(';')).explode('Genes')\n",
    "    expanded_results = expanded_results.head(int(len(expanded_results) * 0.1))\n",
    "    expanded_results.set_index('Genes', inplace=True)\n",
    "    expanded_results['Technology'] = tech\n",
    "    expanded_results['Dataset'] = dataset\n",
    "    expanded_results['Tissue'] = tissue\n",
    "    expanded_results['Region'] = reg\n",
    "    expanded_results.to_csv(f'/data/twang15/spatial_protein/chip_cytometry/chip_cytometry_1/spatial_pathway/{reg}/results.txt', sep='\\t', index_label='Genes')"
   ]
  },
  {
   "cell_type": "code",
   "execution_count": null,
   "metadata": {},
   "outputs": [],
   "source": []
  }
 ],
 "metadata": {
  "kernelspec": {
   "display_name": "imc",
   "language": "python",
   "name": "python3"
  },
  "language_info": {
   "codemirror_mode": {
    "name": "ipython",
    "version": 3
   },
   "file_extension": ".py",
   "mimetype": "text/x-python",
   "name": "python",
   "nbconvert_exporter": "python",
   "pygments_lexer": "ipython3",
   "version": "3.8.19"
  }
 },
 "nbformat": 4,
 "nbformat_minor": 2
}
